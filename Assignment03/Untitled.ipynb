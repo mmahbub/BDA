{
 "cells": [
  {
   "cell_type": "code",
   "execution_count": 1,
   "metadata": {},
   "outputs": [],
   "source": [
    "import re\n",
    "with open('book_CountOfMonteCristo.txt', 'r') as f:\n",
    "    text_lines = f.readlines()\n",
    "text_all = ''.join(text_lines)\n",
    "text_alpha = re.sub(r'[^a-zA-Z]', ' ', text_all)\n",
    "text_upper = text_alpha.upper()\n"
   ]
  },
  {
   "cell_type": "code",
   "execution_count": null,
   "metadata": {},
   "outputs": [],
   "source": [
    "words = [w for w in text_upper.split(' ') if w is not '']\n",
    "ln = [len (w) for w in words]\n",
    "word_len_dict = {}\n",
    "for i in ln:\n",
    "    word_len_dict[i]=ln.count(i)\n",
    "\n",
    "x = sorted(word_len_dict.items(), key=lambda x: x[1], reverse = True)\n",
    "\n",
    "ml = min(len(x),6)\n",
    "\n",
    "y = x [0:ml]\n",
    "\n",
    "print (\"Word Length :\", \"Count\")\n",
    "for ele1,ele2 in y:\n",
    "    print (\"{:<12}: {:<11}\".format(ele1,ele2))\n",
    "\n"
   ]
  },
  {
   "cell_type": "code",
   "execution_count": null,
   "metadata": {},
   "outputs": [],
   "source": []
  }
 ],
 "metadata": {
  "kernelspec": {
   "display_name": "Python 3",
   "language": "python",
   "name": "python3"
  },
  "language_info": {
   "codemirror_mode": {
    "name": "ipython",
    "version": 3
   },
   "file_extension": ".py",
   "mimetype": "text/x-python",
   "name": "python",
   "nbconvert_exporter": "python",
   "pygments_lexer": "ipython3",
   "version": "3.6.5"
  }
 },
 "nbformat": 4,
 "nbformat_minor": 2
}
