{
 "cells": [
  {
   "cell_type": "markdown",
   "metadata": {},
   "source": [
    "# CS 594 / CS 690 - Assignment 03\n",
    "### September 17, 2018\n",
    "---\n",
    "\n",
    "For this assignment, you must work in groups of one or two students. Each person is responsible to write their own code, but the group will (together) discuss their solution.  In this notebook, we provide you with basic functions for completing the assignment.  *Complete the assignment in this notebook.  You will need to modify existing code and write new code to find a solution*.  Each member of the group must upload their own work (i.e., a notebook file) to GitHub.\n",
    "\n",
    "*Note: Running a cell will not rerun previous cells.  If you edit code in previous cells, you must rerun those cells.  We recommend using* `Run All` *to avoid any errors results from not rerunning previous cells.  You can find this in the menu above:* `Cell -> Run All`"
   ]
  },
  {
   "cell_type": "markdown",
   "metadata": {},
   "source": [
    "### Data Pre-Processing:\n",
    "Below is code to process a unicode text file into a string of only upper-case A-Z characters.  We use this code to read the text file (i.e., \"The Count of Monte Cristo\") and prepare the text for the following three problems.  The output string, which you should use for solving the assignment problems, is named `text_upper`."
   ]
  },
  {
   "cell_type": "code",
   "execution_count": 1,
   "metadata": {},
   "outputs": [],
   "source": [
    "# Import regular expressions library\n",
    "import re\n",
    "\n",
    "# Read the text file\n",
    "with open('book_CountOfMonteCristo.txt', 'r') as f:\n",
    "    text_lines = f.readlines()\n",
    "\n",
    "# Concatenate the list of strings into a single string\n",
    "text_all = ''.join(text_lines)\n",
    "\n",
    "# Remove all non-alphabet characters with a regular expression\n",
    "text_alpha = re.sub(r'[^a-zA-Z]', ' ', text_all)\n",
    "\n",
    "# Convert characters to upper-case\n",
    "text_upper = text_alpha.upper()\n",
    "\n",
    "# Uncomment the following line if you would like to see the first 100 characters\n",
    "# print(text_upper[:100])"
   ]
  },
  {
   "cell_type": "markdown",
   "metadata": {},
   "source": [
    "### Problem 1:\n",
    "Analyze the text for word length frequency. We might expect short words to be more common than long words. But, are words of length 2 more common than words or length 3? Are words of length 3 more common that words of length 4? **Use the text you parsed in the previous cell to count the frequency of each word length in the text**.  *Below, we provide you with the first step to solve this problem and hints for what to do next.*"
   ]
  },
  {
   "cell_type": "code",
   "execution_count": 2,
   "metadata": {
    "scrolled": true
   },
   "outputs": [
    {
     "name": "stdout",
     "output_type": "stream",
     "text": [
      "Word Length : Count\n",
      "3           : 109798\n",
      "2           :  84021\n",
      "4           :  81777\n",
      "5           :  49101\n",
      "6           :  39015\n",
      "7           :  30701\n"
     ]
    }
   ],
   "source": [
    "words = [w for w in text_upper.split(' ') if w is not '']\n",
    "\n",
    "ln = [len (w) for w in words]\n",
    "# print (ln)\n",
    "\n",
    "word_len_dict = {}\n",
    "word_len_dict = dict( [ (i, ln.count(i)) for i in set(ln) ] )\n",
    "\n",
    "x = sorted(word_len_dict.items(), key=lambda x: x[1], reverse = True)\n",
    "ml = min(len(x),6)\n",
    "\n",
    "y = x [0:ml]\n",
    "print (\"Word Length :\", \"Count\")\n",
    "for ele in y:\n",
    "    print ('{:<12}:{:>7}'.format(*ele))\n",
    "\n"
   ]
  },
  {
   "cell_type": "markdown",
   "metadata": {},
   "source": [
    "#### Expected Output:\n",
    "```\n",
    "Word Length : Count\n",
    "3           : 109798\n",
    "2           :  84021\n",
    "4           :  81777\n",
    "5           :  49101\n",
    "6           :  39015\n",
    "7           :  30701\n",
    "```"
   ]
  },
  {
   "cell_type": "markdown",
   "metadata": {},
   "source": [
    "**References:**\n",
    "- [1: list comprehensions](https://docs.python.org/3/tutorial/datastructures.html#list-comprehensions)\n",
    "- [2: dictionaries](https://docs.python.org/3.6/library/stdtypes.html#dict)\n",
    "- [3: for loops](https://docs.python.org/3/reference/compound_stmts.html#for)\n",
    "- [4: sorted](https://docs.python.org/3/library/functions.html#sorted)\n",
    "- [5: dict.items](https://docs.python.org/3.6/library/stdtypes.html#dict.items)\n",
    "- [6: lambda expressions](https://docs.python.org/3/tutorial/controlflow.html#lambda-expressions)\n",
    "- [7: format string syntax](https://docs.python.org/3.6/library/string.html#format-string-syntax)"
   ]
  },
  {
   "cell_type": "markdown",
   "metadata": {},
   "source": [
    "### Problem 2:\n",
    "Analyze the text for letter frequency. If you have taken a crypto course and/or have seen substitution ciphers then you are probably aware that ’e’ is the most common letter used in the English language.  **Use the text you parsed above to count the frequency of each letter in the text**. *Below, we provide you with the first step to solve this problem and hints for what to do next.*"
   ]
  },
  {
   "cell_type": "code",
   "execution_count": 3,
   "metadata": {},
   "outputs": [
    {
     "name": "stdout",
     "output_type": "stream",
     "text": [
      "Character   : Count\n",
      "E           : 258693     \n",
      "T           : 180211     \n",
      "A           : 165306     \n",
      "O           : 156817     \n",
      "I           : 142095     \n",
      "N           : 137343     \n"
     ]
    }
   ],
   "source": [
    "import string\n",
    "from string import ascii_uppercase  \n",
    "\n",
    "# Concatenate the list of words into a string of characters\n",
    "# HINT: ref [1]\n",
    "\n",
    "char_count_dict = {c:0 for c in string.ascii_uppercase}\n",
    "for x in ascii_uppercase:\n",
    "    char_count_dict[x] = text_upper.count(x)\n",
    "\n",
    "x = sorted (char_count_dict.items(), key=lambda x: x[1], reverse = True)\n",
    "\n",
    "ml = min(len(x),6)\n",
    "\n",
    "y = x [0:ml]\n",
    "print (\"Character   :\", \"Count\")\n",
    "for ele1,ele2 in y:\n",
    "    print (\"{:<12}: {:<11}\".format(ele1,ele2))\n",
    "\n"
   ]
  },
  {
   "cell_type": "markdown",
   "metadata": {},
   "source": [
    "#### Expected Output:\n",
    "```\n",
    "Character : Count\n",
    "E         : 258693\n",
    "T         : 180211\n",
    "A         : 165306\n",
    "O         : 156817\n",
    "I         : 142095\n",
    "N         : 137343\n",
    "```"
   ]
  },
  {
   "cell_type": "markdown",
   "metadata": {},
   "source": [
    "**References:**\n",
    "- [1: str.join](https://docs.python.org/3/library/stdtypes.html#str.join)\n",
    "- [2: list comprehensions](https://docs.python.org/3/tutorial/datastructures.html#list-comprehensions)\n",
    "- [3: dictionaries](https://docs.python.org/3.6/library/stdtypes.html#dict)\n",
    "- [4: format string syntax](https://docs.python.org/3.6/library/string.html#format-string-syntax)"
   ]
  },
  {
   "cell_type": "markdown",
   "metadata": {},
   "source": [
    "### Problem 3:\n",
    "If we really wanted to crack a substitution cipher (or win on ”Wheel of Fortune”) then we should be aware that, although \"e\" is the most common letter used in English, it may not be the most common first letter in a word. **Count the positional frequencies of each letter. Specifically, count the number of times each letter appears as the first letter in a word, as the last letter in a word, and as an interior letter in a word (i.e. a letter that is neither first nor last)**. *Below, we provide you with the first step to solve this problem and hints for what to do next.*"
   ]
  },
  {
   "cell_type": "markdown",
   "metadata": {},
   "source": [
    "Below, we define a method which takes in a word (string) and returns a list describing the position of each letter (character).  Each item in the list has the format `(letter, position)`.  The position can have the following values: `0: first letter, 1: interior letter, 2: last letter`"
   ]
  },
  {
   "cell_type": "code",
   "execution_count": 4,
   "metadata": {},
   "outputs": [],
   "source": [
    "# Define a method to return position of each character in a word\n",
    "def lettersPosition(word):\n",
    "    if len(word) == 1:\n",
    "        # Base case for words of length 1\n",
    "        return [(word, 0)]\n",
    "    else:\n",
    "        # Get first and last letters\n",
    "        first, last = word[0], word[-1]\n",
    "        pos_list = [(first, 0), (last, 2)]\n",
    "\n",
    "        # Get interior letters\n",
    "        interior = word[1:-1]\n",
    "        for char in interior:\n",
    "            pos_list.append((char, 1))\n",
    "\n",
    "    return pos_list"
   ]
  },
  {
   "cell_type": "markdown",
   "metadata": {},
   "source": [
    "We can call this method for each word in our list of words and sum the values to obtain letter position frequencies."
   ]
  },
  {
   "cell_type": "code",
   "execution_count": 66,
   "metadata": {
    "scrolled": true
   },
   "outputs": [
    {
     "name": "stdout",
     "output_type": "stream",
     "text": [
      "Character   :  First |  Interior |  Last  \n",
      "A           :  51644 |    111686 |  1976\n",
      "B           :  18866 |      8516 |   541\n",
      "C           :  19577 |     32130 |   725\n",
      "D           :  17289 |     18613 | 58075\n",
      "E           :  10178 |    153205 | 95310\n",
      "F           :  17724 |     10618 | 16988\n"
     ]
    }
   ],
   "source": [
    "# Define a dictionary for counting letter position frequency\n",
    "char_pos_dict = {c:[0,0,0] for c in string.ascii_uppercase}\n",
    "words = [w for w in text_upper.split(' ') if w is not '']\n",
    "\n",
    "for w in words: \n",
    "    l = lettersPosition (w)\n",
    "    for i in l:\n",
    "        key = i[0]\n",
    "        if (i[1] == 0):\n",
    "            char_pos_dict [key][0] = char_pos_dict [key][0] +1\n",
    "        elif (i[1] == 1):\n",
    "            char_pos_dict [key][1] = char_pos_dict [key][1] +1\n",
    "        elif (i[1] == 2):\n",
    "            char_pos_dict [key][2] = char_pos_dict [key][2] +1\n",
    "\n",
    "x = sorted (char_pos_dict.items(), key=lambda x: x[0])\n",
    "ml = min(len(x),6)\n",
    "y = x [0:ml]\n",
    "\n",
    "print (\"Character   :\", \" First |\", \" Interior |\", \" Last  \")\n",
    "for i in y:\n",
    "    ele1 = i[0]\n",
    "    ele2 = i[1][0]\n",
    "    ele3 = i[1][1]\n",
    "    ele4 = i[1][2]\n",
    "    print (\"{:<12}: {:>6} | {:>9} | {:>5}\".format(ele1,ele2,ele3,ele4))\n",
    "\n"
   ]
  },
  {
   "cell_type": "markdown",
   "metadata": {},
   "source": [
    "#### Expected Output:\n",
    "```\n",
    "Character : First | Interior |  Last\n",
    "A         : 51644 |   111686 |  1976\n",
    "B         : 18866 |     8516 |   541\n",
    "C         : 19577 |    32130 |   725\n",
    "D         : 17289 |    18613 | 58075\n",
    "E         : 10178 |   153205 | 95310\n",
    "F         : 17724 |    10618 | 16988\n",
    "```"
   ]
  },
  {
   "cell_type": "markdown",
   "metadata": {},
   "source": [
    "### Problem 4:\n",
    "For problems 1, 2, and 3 you may want to present your results in a (graphically) nice way. This could be done with a histogram. It is probably easiest to build the histogram using whatever software package you feel comfortable with, but we recommend the python module `matplotlib`. Make sure to give your plots meaningful labels (including axis labels and a title)."
   ]
  },
  {
   "cell_type": "code",
   "execution_count": 6,
   "metadata": {},
   "outputs": [],
   "source": [
    "# Import matplotlib's pyplot\n",
    "# HINT: ref[1]\n",
    "import matplotlib\n",
    "from matplotlib import pyplot as plt"
   ]
  },
  {
   "cell_type": "markdown",
   "metadata": {},
   "source": [
    "We provide the code to plot the histogram of word lengths from problem 1 below.  Use this code as a template to produce histograms for problems 2 and 3.  *Note: this code assumes that you have a dictionary, `word_len_dict`, with keys containing the word length and values containing the count of words with a given length (i.e., an entry of `3:109798` in the dictionary indicates that there are 109,798 words of length 3).*"
   ]
  },
  {
   "cell_type": "code",
   "execution_count": 7,
   "metadata": {},
   "outputs": [
    {
     "data": {
      "image/png": "[encoded data removed]",
      "text/plain": [
       "<Figure size 432x288 with 1 Axes>"
      ]
     },
     "metadata": {},
     "output_type": "display_data"
    }
   ],
   "source": [
    "# Sort word length dictionary by length of word\n",
    "wl_sorted = sorted(word_len_dict.items(), key=lambda x: x[0])\n",
    "\n",
    "# Get X and Y values\n",
    "# HINT: ref[2]\n",
    "X_vals, Y_vals = zip(*wl_sorted)\n",
    "\n",
    "# Plot the histogram for problem 1'\n",
    "# HINT: ref[3]\n",
    "plt.bar(X_vals, Y_vals, 0.75)\n",
    "plt.xlim((.125, len(X_vals)))\n",
    "plt.xticks(range(1,len(X_vals)+1,1))\n",
    "plt.xlabel('Word Length')\n",
    "plt.ylabel('Word Length Count')\n",
    "plt.title('Word Length Count in The Count of Monte Cristo')\n",
    "plt.show()"
   ]
  },
  {
   "cell_type": "markdown",
   "metadata": {},
   "source": [
    "**References:**\n",
    "- [1: pyplot tutorial](https://matplotlib.org/tutorials/introductory/pyplot.html)\n",
    "- [2: zip](https://docs.python.org/3/library/functions.html#zip)\n",
    "- [3: pyplot.bar](https://matplotlib.org/devdocs/api/_as_gen/matplotlib.pyplot.bar.html)"
   ]
  },
  {
   "cell_type": "markdown",
   "metadata": {},
   "source": [
    "In the cell below, write the code for the visualization of results from problem 2."
   ]
  },
  {
   "cell_type": "code",
   "execution_count": 8,
   "metadata": {},
   "outputs": [
    {
     "data": {
      "image/png": "[encoded data removed]",
      "text/plain": [
       "<Figure size 432x288 with 1 Axes>"
      ]
     },
     "metadata": {},
     "output_type": "display_data"
    }
   ],
   "source": [
    "wl_sorted = sorted(char_count_dict.items(), key=lambda x: x[0])\n",
    "\n",
    "X_vals, Y_vals = zip(*wl_sorted)\n",
    "\n",
    "plt.bar(X_vals, Y_vals, .85)\n",
    "plt.xlim((.125, len(X_vals)))\n",
    "plt.xticks(range(0,len(X_vals)+1,1))\n",
    "plt.xlabel('Alphabets')\n",
    "plt.ylabel('Letter Frequency')\n",
    "plt.title('Letter Frequency Count in The Count of Monte Cristo')\n",
    "plt.show()"
   ]
  },
  {
   "cell_type": "markdown",
   "metadata": {},
   "source": [
    "In the cell below, write the code for the visualization of results from problem 3."
   ]
  },
  {
   "cell_type": "code",
   "execution_count": 65,
   "metadata": {},
   "outputs": [
    {
     "data": {
      "image/png": "[encoded data removed]",
      "text/plain": [
       "<Figure size 576x1080 with 1 Axes>"
      ]
     },
     "metadata": {},
     "output_type": "display_data"
    }
   ],
   "source": [
    "sort = sorted (char_pos_dict.items(), key=lambda x: x[0])\n",
    "\n",
    "fig, axs = plt.subplots(1,1,figsize=(8,15))\n",
    "opacity = .7\n",
    "w = .8\n",
    "\n",
    "x = [i[0] for i in sort]\n",
    "a = [i[1][0] for i in sort]\n",
    "b = [i[1][1] for i in sort]\n",
    "c = [i[1][2] for i in sort]\n",
    "d = [x + y for x, y in zip(a, b)]\n",
    "\n",
    "x_pos = [i for i, _ in enumerate(x)]\n",
    "    \n",
    "axs.bar(x_pos, a, color = 'red', edgecolor = 'white', width = w)\n",
    "axs.bar(x_pos, b, bottom = a, color = 'green', edgecolor = 'white', width = w)\n",
    "axs.bar(x_pos, c, bottom = d, color = 'blue', edgecolor = 'white', width = w)\n",
    "\n",
    "plt.xticks(x_pos, x)\n",
    "plt.xlabel('Alphabets')\n",
    "plt.ylabel('Positional Frequency')\n",
    "plt.title('Positional Frequency of Letters in The Count of Monte Cristo')\n",
    " \n",
    "plt.tight_layout()\n",
    "plt.show() \n"
   ]
  },
  {
   "cell_type": "markdown",
   "metadata": {},
   "source": [
    "### Things to Consider:\n",
    "You are reading and analyzing the text in a single, sequential pass. Can you consider a better (faster) way to perform the same tasks?"
   ]
  },
  {
   "cell_type": "markdown",
   "metadata": {},
   "source": [
    "### Assignment Questions:\n",
    "**Answer the following questions, in a couple sentences each, in the cell provided below**\n",
    "* List the key tasks you accomplished during this assignment?\n",
    "* Describe the challenges you faced in addressing these tasks and how you overcame these challenges?\n",
    "* Did you work with other students on this assignment? If yes, how did you help them? How did they help you? Be as specific as possible."
   ]
  },
  {
   "cell_type": "markdown",
   "metadata": {},
   "source": [
    "*Your answers here*"
   ]
  }
 ],
 "metadata": {
  "kernelspec": {
   "display_name": "Python 3",
   "language": "python",
   "name": "python3"
  },
  "language_info": {
   "codemirror_mode": {
    "name": "ipython",
    "version": 3
   },
   "file_extension": ".py",
   "mimetype": "text/x-python",
   "name": "python",
   "nbconvert_exporter": "python",
   "pygments_lexer": "ipython3",
   "version": "3.6.5"
  }
 },
 "nbformat": 4,
 "nbformat_minor": 2
}
