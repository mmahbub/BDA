{
 "cells": [
  {
   "cell_type": "markdown",
   "metadata": {},
   "source": [
    "#  CS 594 / CS 690 - Assignment 01\n",
    "### August 27, 2018\n",
    "---\n",
    "\n",
    "For this assignment, you must work in groups of one or two students. Each person is\n",
    "responsible to write their own code, but the group will (together) discuss their solution.  In this notebook, we provide you with basic functions for completing the assignment.  *You will need to modify existing code and write new code to find a solution*.  Each member of the group must upload their own work to GitHub (which we will cover in the next lecture).\n",
    "\n",
    "# Problem 1\n",
    "In this problem we will explore reading in and parsing [delimiter-separated values](https://en.wikipedia.org/wiki/Delimiter-separated_values) stored in files.  We will start with [comma-separated values](https://en.wikipedia.org/wiki/Comma-separated_values) and then move on to [tab-separated values](https://en.wikipedia.org/wiki/Tab-separated_values).\n",
    "\n",
    "### Problem 1a: Comma-Separated Values (CSV)\n",
    "\n",
    "From [Wikipedia](https://en.wikipedia.org/wiki/Comma-separated_values): In computing, a comma-separated values (CSV) file stores tabular data (numbers and text) in plain text. Each line of the file is a data record. Each record consists of one or more fields, separated by commas. The use of the comma as a field separator is the source of the name for this file format.\n",
    "\n",
    "If you were to consider the CSV file as a matrix, each line would represent a row and each comma would represent a column.  In the provided CSV file, the first row consists of a header that \"names\" each column.  In this problem, ...\n",
    "\n",
    "- Count (and print) the number of rows of data (header is excluded) in the csv file\n",
    "- Count (and print) the number of columns of data in the csv file\n",
    "- Calculate (and print) the average of the values that are in the \"age\" column\n",
    "  - You can assume each age in the file is an integer, but the average should be calculated as a float"
   ]
  },
  {
   "cell_type": "code",
   "execution_count": 2,
   "metadata": {},
   "outputs": [
    {
     "name": "stdout",
     "output_type": "stream",
     "text": [
      " Number of rows of data: 8 \n",
      " Number of cols : 3 \n",
      " Average Age: 70.875\n"
     ]
    }
   ],
   "source": [
    "def parse_delimited_file(filename, delimeter = \",\"):\n",
    "    with open (filename, 'r', encoding= 'utf8') as csvfile:\n",
    "        lines = csvfile.readlines()\n",
    "    \n",
    "    data = [x.rstrip() for x in lines]\n",
    "    \n",
    "    data1 = [line.split(',') for line in data]\n",
    "    header = data1 [0]\n",
    "    \n",
    "    body = data1 [1:]\n",
    "    \n",
    "    index = header.index('age')\n",
    "    \n",
    "    num_data_rows = len (body)\n",
    "    \n",
    "    num_data_cols = len (header)\n",
    "    \n",
    "    sum = 0\n",
    "    for y in body:\n",
    "        sum = sum + int(y[1])\n",
    "    avg = sum / num_data_rows    \n",
    "    \n",
    "    print ('',\"Number of rows of data: {}\". format (num_data_rows), '\\n',\n",
    "    \"Number of cols : {}\". format (num_data_cols), '\\n', \n",
    "    \"Average Age: {}\". format (avg))\n",
    "    \n",
    "parse_delimited_file('data.csv')    \n",
    "\n",
    "    "
   ]
  },
  {
   "cell_type": "markdown",
   "metadata": {},
   "source": [
    "**Expected Ouput:**\n",
    "```\n",
    "Number of rows of data: 8\n",
    "Number of cols: 3\n",
    "Average Age: 70.875\n",
    "```\n",
    "**References:**\n",
    "- [1: open](https://docs.python.org/3.6/library/functions.html#open)\n",
    "- [2: readlines](https://docs.python.org/3.6/library/codecs.html#codecs.StreamReader.readlines)\n",
    "- [3: rstrip](https://docs.python.org/3.6/library/stdtypes.html#str.rstrip)\n",
    "- [4: list comprehension](https://docs.python.org/3/tutorial/datastructures.html#list-comprehensions)\n",
    "- [5: split](https://docs.python.org/3.6/library/stdtypes.html#str.split)\n",
    "- [6: splice](https://docs.python.org/3.6/glossary.html#term-slice)\n",
    "- [7: \"more on lists\"](https://docs.python.org/3.6/tutorial/datastructures.html#more-on-lists)\n",
    "- [8: len](https://docs.python.org/3.6/library/functions.html#len)\n",
    "- [9: int](https://docs.python.org/3.6/library/functions.html#int)\n",
    "- [10: format](https://docs.python.org/3.6/library/stdtypes.html#str.format)\n"
   ]
  },
  {
   "cell_type": "markdown",
   "metadata": {},
   "source": [
    "### Problem 1b: Tab-Separated Values (TSV)\n",
    "\n",
    "From [Wikipedia](https://en.wikipedia.org/wiki/Tab-separated_values): A tab-separated values (TSV) file is a simple text format for storing data in a tabular structure, e.g., database table or spreadsheet data, and a way of exchanging information between databases. Each record in the table is one line of the text file. Each field value of a record is separated from the next by a tab character. The TSV format is thus a type of the more general delimiter-separated values format.\n",
    "\n",
    "In this problem, repeat the analyses performed in the prevous problem, but for the provided tab-delimited file.\n",
    "\n",
    "**NOTE:** the order of the columns has changed in this file.  If you hardcoded the position of the \"age\" column, think about how you can generalize the `parse_delimited_file` function to work for any delimited file with an \"age\" column."
   ]
  },
  {
   "cell_type": "code",
   "execution_count": 19,
   "metadata": {},
   "outputs": [
    {
     "name": "stdout",
     "output_type": "stream",
     "text": [
      " Number of rows of data: 8 \n",
      " Number of cols : 3 \n",
      " Average Age: 70.875\n"
     ]
    }
   ],
   "source": [
    "def parse_delimited_file(filename, delimeter):\n",
    "    with open (filename, 'r', encoding= 'utf8') as svfile:\n",
    "        lines = svfile.readlines()\n",
    "    \n",
    "    data = [x.rstrip() for x in lines]\n",
    "    \n",
    "    data1 = [line.split(delimeter) for line in data]\n",
    "    header = data1 [0]\n",
    "    \n",
    "    \n",
    "    body = data1 [1:]\n",
    "    \n",
    "    index = header.index('age')\n",
    "\n",
    "    num_data_rows = len (body)\n",
    "    \n",
    "    num_data_cols = len (header)\n",
    "    \n",
    "    sum = 0\n",
    "    for y in body:\n",
    "        sum = sum + int(y[index])\n",
    "    avg = sum / num_data_rows    \n",
    "    \n",
    "    print ('',\"Number of rows of data: {}\". format (num_data_rows), '\\n',\n",
    "    \"Number of cols : {}\". format (num_data_cols), '\\n', \n",
    "    \"Average Age: {}\". format (avg))\n",
    "    \n",
    "    \n",
    "parse_delimited_file('data.tsv', delimeter = '\\t')"
   ]
  },
  {
   "cell_type": "markdown",
   "metadata": {},
   "source": [
    "**Expected Ouput:**\n",
    "```\n",
    "Number of rows of data: 8\n",
    "Number of cols: 3\n",
    "Average Age: 70.875\n",
    "```\n",
    "---\n",
    "\n",
    "# Problem 2\n",
    "If you opened the `data.csv` file, you may have noticed some non-english letters in the names column.  These characters are represented using [Unicode](https://en.wikipedia.org/wiki/Unicode), a standard for representing many different types and forms of text.  Python 3 [natively supports](https://docs.python.org/3/howto/unicode.html) Unicode, but many tools do not.  Some tools require text to be formatted with [ASCII](https://en.wikipedia.org/wiki/ASCII).\n",
    "\n",
    "Convert the unicode-formatted names into ascii-formated names, and save the names out to a file named `data-ascii.txt` (one name per line).  We have provided you with a [tranliteration dictionary](https://german.stackexchange.com/questions/4992/conversion-table-for-diacritics-e-g-%C3%BC-%E2%86%92-ue) that maps several common unicode characters to their ascii transliteration.  Use this dictionary to convert the unicode strings to ascii."
   ]
  },
  {
   "cell_type": "code",
   "execution_count": 3,
   "metadata": {},
   "outputs": [
    {
     "name": "stdout",
     "output_type": "stream",
     "text": [
      "Richard Phillips Feynman\n",
      "Shin'ichiro Tomonaga\n",
      "Julian Schwinger\n",
      "Rudolf Ludwig Moessbauer\n",
      "Erwin Schroedinger\n",
      "Paul Dirac\n",
      "Maria Sklodowska-Curie\n",
      "Pierre Curie\n"
     ]
    }
   ],
   "source": [
    "translit_dict = {\n",
    "    \"ä\" : \"ae\",\n",
    "    \"ö\" : \"oe\",\n",
    "    \"ü\" : \"ue\",\n",
    "    \"Ä\" : \"Ae\",\n",
    "    \"Ö\" : \"Oe\",\n",
    "    \"Ü\" : \"Ue\", \n",
    "    \"ł\" : \"l\",\n",
    "    \"ō\" : \"o\",\n",
    "}\n",
    "\n",
    "with open(\"data.csv\", 'r', encoding='utf8') as csvfile:\n",
    "    lines = csvfile.readlines()\n",
    "\n",
    "    data = [x.rstrip() for x in lines]\n",
    "    \n",
    "    data1 = [line.split(',') for line in data]\n",
    "\n",
    "    header = data1[0]\n",
    "    body = data1[1:]\n",
    "    \n",
    "    index = header.index('name')\n",
    "\n",
    "    \n",
    "unicode_names = []\n",
    "import numpy as np  \n",
    "data2 = np.array(body)  \n",
    "unicode_names = data2[:,:1]\n",
    "\n",
    "def replace(name):\n",
    "    for key in translit_dict:\n",
    "        name = name.replace(key, translit_dict[key])\n",
    "    return name\n",
    "\n",
    "translit_names = []\n",
    "for unicode_name in unicode_names:\n",
    "    translit_names.append(replace(unicode_name[0]))\n",
    "    \n",
    "\n",
    "with open(\"data-ascii.txt\", 'w') as newfile:\n",
    "    for name in translit_names:\n",
    "        newfile.write(name+'\\n')\n",
    "\n",
    "with open(\"data-ascii.txt\", 'r') as infile:\n",
    "    for line in infile:\n",
    "        print(line.rstrip())"
   ]
  },
  {
   "cell_type": "markdown",
   "metadata": {},
   "source": [
    "**Expected Output:**\n",
    "```\n",
    "Richard Phillips Feynman\n",
    "Shin'ichiro Tomonaga\n",
    "Julian Schwinger\n",
    "Rudolf Ludwig Moessbauer\n",
    "Erwin Schroedinger\n",
    "Paul Dirac\n",
    "Maria Sklodowska-Curie\n",
    "Pierre Curie\n",
    "```\n",
    "\n",
    "**References:**\n",
    "- [1: replace](https://docs.python.org/3.6/library/stdtypes.html#str.replace)\n",
    "- [2: file object methods](https://docs.python.org/3/tutorial/inputoutput.html#methods-of-file-objects)"
   ]
  },
  {
   "cell_type": "markdown",
   "metadata": {},
   "source": [
    "# Free-Form Questions:\n",
    "**Answer the following questions, in a couple sentences each, in the cells provided below.**\n",
    "\n",
    "- Your solutions for Problems 1 & 2 probably share a lot of code in common.  You might even have copied-and-pasted from Problem 1 into Problem 2.  How would you refactor `parse_delimited_file` to be useful in both problems?\n",
    "- Are there any pre-built Python packages that could help you solve these problems? How could you use them?\n",
    "- List the key tasks you accomplished during this assignment.\n",
    "- Describe the challenges you faced in addressing these tasks and how you overcame these challenges.\n",
    "- Did you work with other students on this assignment? If yes, how did you help them? How did they help you? Be as specific as possible."
   ]
  },
  {
   "cell_type": "markdown",
   "metadata": {},
   "source": [
    "- I used `parse_delimited_file` in case of first problem. I used it to define a function which further operated in the data.csv file. In the second problem I directly used the csv file without using the function.\n",
    "\n",
    "\n",
    "- Yes. The `numpy` package can be used to solve this problem. In fact, in the second problem I imported `numpy` which helped me to make an array of the data provided.\n",
    "\n",
    "\n",
    "- The key tasks that I have accomplished in this assignment are:The tasks that are common for both the problmes:\n",
    "- opened the csv file in `read` mode\n",
    "- stripped a new line at the end of each line\n",
    "- splitted each data based on the delimeter `,`\n",
    "- seperated header from the data \n",
    "- calculated the column index for `age` or `name` \n",
    "    \n",
    "- For problem 1:\n",
    "- calculated the number of rows and column using `len` command\n",
    "- calculated the average age using for loop\n",
    "\n",
    "- For problem 2:\n",
    "- imported numpy and use it to make an array of the data\n",
    "- replaced the `unicode formatted names` with `ascii formatted names` using a predefined \n",
    "  `replace` function and the `translit_dict`\n",
    "- saved the names in a text file named `ascii.txt`\n",
    "  \n",
    "  \n",
    "- As a beginner in Python, I faced quite a challange in every aspect of solving these two   \n",
    "  problems. But I am learning it and hope to overcome all the difficulties in near future. \n",
    "  \n",
    "  \n",
    "- I have not worked with any of the students yet. But I am eagerly looking forward to \n",
    "  working with others."
   ]
  },
  {
   "cell_type": "code",
   "execution_count": null,
   "metadata": {},
   "outputs": [],
   "source": []
  }
 ],
 "metadata": {
  "kernelspec": {
   "display_name": "Python 3",
   "language": "python",
   "name": "python3"
  },
  "language_info": {
   "codemirror_mode": {
    "name": "ipython",
    "version": 3
   },
   "file_extension": ".py",
   "mimetype": "text/x-python",
   "name": "python",
   "nbconvert_exporter": "python",
   "pygments_lexer": "ipython3",
   "version": "3.6.5"
  }
 },
 "nbformat": 4,
 "nbformat_minor": 2
}
