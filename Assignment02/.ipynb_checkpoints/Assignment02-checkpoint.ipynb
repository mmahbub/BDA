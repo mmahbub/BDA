{
 "cells": [
  {
   "cell_type": "markdown",
   "metadata": {},
   "source": [
    "# CS 594 / CS 690 - Assignment 02\n",
    "### September 10, 2018\n",
    "---\n",
    "\n",
    "For this assignment, you must work in groups of one or two students. Each person is responsible to write their own code, but the group will (together) discuss their solution.  In this notebook, we provide you with basic functions for completing the assignment.  *Complete the assignment in this notebook.  You will need to modify existing code and write new code to find a solution*.  Each member of the group must upload their own work (i.e., a notebook file) to GitHub.\n",
    "\n",
    "*Note: Running a cell will not rerun previous cells.  If you edit code in previous cells, you must rerun those cells.  We recommend using* `Run All` *to avoid any errors results from not rerunning previous cells.  You can find this in the menu above:* `Cell -> Run All`"
   ]
  },
  {
   "cell_type": "markdown",
   "metadata": {},
   "source": [
    "---\n",
    "## Problem 1:\n",
    "(Adapted from [ProjectEuler Problem 1](https://projecteuler.net/problem=1).)\n",
    "If we list the natural numbers below 10 that are multiples of 3 or 5, we get: 3, 5, 6, and 9. The sum of these multiples is 23. Write a function that finds the sum of the multiples of $p$ or $q$ below $n$. Use your function to find the sum of all multiples of 3 or 5 below 10000. \n",
    "\n",
    "Note: There are two general approaches to this problem, the naïve (slower) approach and a more mathematical (faster) approach involving the [inclusion-exclusion principle](https://en.wikipedia.org/wiki/Inclusion%E2%80%93exclusion_principle)."
   ]
  },
  {
   "cell_type": "code",
   "execution_count": 6,
   "metadata": {},
   "outputs": [
    {
     "name": "stdout",
     "output_type": "stream",
     "text": [
      "23\n",
      "23331668\n"
     ]
    }
   ],
   "source": [
    "# Define the function to take three arguments.\n",
    "def sumOfMultiples(p, q, n):\n",
    "    sum_ = sum([i for i in range(n) if i % 3 == 0 or i % 5 == 0])\n",
    "    return sum_\n",
    "\n",
    "# Print the output of your function for p=3, q=5, n=10.\n",
    "print(sumOfMultiples(3, 5, 10))\n",
    "\n",
    "# Print the output of your function for p=3, q=5, n=10000.\n",
    "print(sumOfMultiples(3, 5, 10000))"
   ]
  },
  {
   "cell_type": "markdown",
   "metadata": {},
   "source": [
    "**Expected Output:**\n",
    "\n",
    "23<br>\n",
    "23331668"
   ]
  },
  {
   "cell_type": "markdown",
   "metadata": {},
   "source": [
    "---\n",
    "## Problem 2:\n",
    "(Adapted from [ProjectEuler Problem 22](https://projecteuler.net/problem=22).)\n",
    "The file p022_names.txt contains one line with over 5000 comma-separated names, each in all-capital letters and enclosed in quotes. Import the names and sort them into alphabetical order. Then working out the alphabetical value for each name, multiply this value by its alphabetical position in the list to obtain a name score.\n",
    "\n",
    "For example, when the list is sorted into alphabetical order, COLIN, which is worth 3 + 15 + 12 + 9 + 14 = 53, is the 938th name in the list. So, COLIN would obtain a score of 938 \\* 53 = 49714.\n",
    "\n",
    "What is the total of the scores for all the names in the file?"
   ]
  },
  {
   "cell_type": "code",
   "execution_count": 88,
   "metadata": {},
   "outputs": [
    {
     "name": "stdout",
     "output_type": "stream",
     "text": [
      "871683246\n"
     ]
    }
   ],
   "source": [
    "# Rather than manually stripping and slicing the data as we did in the previous assigment, \n",
    "# let's use the csv module.\n",
    "import csv\n",
    "\n",
    "with open('p022_names.txt') as namefile, open ('name.csv', 'w') as csvfile:\n",
    "    # Complete the line below by specifying the appropriate arguments. \n",
    "    # HINT: ref [1]\n",
    "    for line in namefile: \n",
    "        csvfile.write(line.replace(' ',','))\n",
    "\n",
    "name_reader = sorted(list(csv.reader(open('name.csv'), delimiter=','))[0])\n",
    "\n",
    "#     name_reader = csv.reader('''TODO: add arguments''')\n",
    "#     names = next(name_reader)\n",
    "\n",
    "# Sort the list of names.\n",
    "# HINT: ref [2]\n",
    "\n",
    "name_reader.sort()\n",
    "\n",
    "x = len (name_reader)\n",
    "\n",
    "# Compute the alphabetical value for each name, with 'A' -> 1, 'B' -> 2, ..., 'Z' -> 26.\n",
    "# HINT: ref [3]\n",
    "\n",
    "sUm = 0\n",
    "for i in range(0,x):\n",
    "    c = 0\n",
    "    for y in name_reader[i]:\n",
    "        for z in y:\n",
    "            c += (ord(z) - 64)\n",
    "    sUm += c * (i+1)\n",
    "print (sUm)\n",
    "\n",
    "\n",
    "# a = 'MARIA'\n",
    "# print (a)\n",
    "# print ([ord (x)-64 for x in a])\n",
    "\n",
    "\n",
    "# Multiply each name value by name's position in the ordered list, where the first name is in position 1.\n",
    "# HINT: ref [4]\n",
    "\n",
    "\n",
    "# Print the sum of all the name scores.\n"
   ]
  },
  {
   "cell_type": "markdown",
   "metadata": {},
   "source": [
    "**References:**\n",
    "- [1: csv.reader](https://docs.python.org/3.6/library/csv.html#csv.reader)\n",
    "- [2: sort](https://docs.python.org/3.6/library/stdtypes.html#list.sort)<br>\n",
    "Note: we can use the function list.sort() without any added arguments, but the sort function has additional capabilities worth exploring. See [HowTo/Sorting](https://wiki.python.org/moin/HowTo/Sorting) for more details.\n",
    "- [3: ord](https://docs.python.org/3.6/library/functions.html#ord)\n",
    "- [4: enumerate](https://docs.python.org/3/library/functions.html#enumerate)"
   ]
  },
  {
   "cell_type": "markdown",
   "metadata": {},
   "source": [
    "**Expected Output:**\n",
    "\n",
    "871683246"
   ]
  },
  {
   "cell_type": "markdown",
   "metadata": {},
   "source": [
    "---\n",
    "### Problem-solving advice\n",
    "\n",
    "When solving a programming problem such as Problem 3 below, it is generally a bad idea to try and optimize your program in your first attempt. Rather than implementing clever algorithms right away, it is better to write a simple script that you are certain will work and is easier to debug. Once your script runs correctly (possibly with smaller input than the final problem you wish to solve), commit your working solution to your GitHub repository, then you can think about how to improve it."
   ]
  },
  {
   "cell_type": "markdown",
   "metadata": {},
   "source": [
    "---\n",
    "## Problem 3:\n",
    "(From [ProjectEuler Problem 45](https://projecteuler.net/problem=45).)\n",
    "Triangular, Pentagonal, and Hexagonal numbers are generated by the following formulae:\n",
    "\n",
    "| Polygonal  | *formula for nth term*    |*sequence of terms*    |\n",
    "| ---------- | ------------------------- | ----------------------|\n",
    "| Triangular | $T_n = \\frac{n(n+1)}{2}$  | 1, 3, 6, 10, 15, ...  |\n",
    "| Pentagonal | $P_n = \\frac{n(3n-1)}{2}$ | 1, 5, 12, 22, 35, ... |\n",
    "| Hexagonal  | $H_n = n(2n-1)$            | 1, 6, 15, 28, 45, ... |\n",
    "   \n",
    "The number 1 is triangular, pentagonal, and hexagonal (TPH).  Less obviously, $40755=T_{285}=P_{165}=H_{143}$ is also TPH. In fact, 40755 is the smallest TPH number bigger than 1. \n",
    "\n",
    "Write a function to find the smallest TPH number bigger than $n$. Use your function to find the smallest TPH bigger than 40755.\n",
    "\n",
    "Note: You can simplify this problem using a relationship between two of the three given sequences."
   ]
  },
  {
   "cell_type": "code",
   "execution_count": null,
   "metadata": {
    "scrolled": false
   },
   "outputs": [],
   "source": [
    "# The function numpy.argmin may come in handy (ref [1]), but is not necessary.\n",
    "# from numpy import argmin\n",
    "\n",
    "# You will probably want to define functions that compute the n-th polygonal number\n",
    "# for various polygons. For example...\n",
    "def getHex(n):\n",
    "    return n * (2*n - 1)\n",
    "\n",
    "# (The following is necessary for an efficient solution, but not for a brute-force solution.)\n",
    "# The quadratic formula is useful for computing a least polygonal number greater than n.\n",
    "# For example, to find the least Hexagonal number greater than 30, solve the equation \n",
    "# 30 = x(2x-1), which in general form is 0 = 2x^2 - x - 30. If we write the function below \n",
    "# to compute the larger of the two solutions to 0=ax^2 + bx + c, then solve_quad(2, -1, -30) \n",
    "# will return 4.1310435... so the next Hexagonal number is getHex(5) = 45.\n",
    "# HINT: ref [2]\n",
    "def solve_quad(a, b, c):\n",
    "    \n",
    "    \n",
    "    return 0\n",
    "\n",
    "# Now write a function that returns the least TPH number greater than n. \n",
    "def nextTPH(n):\n",
    "\n",
    "    \n",
    "    return 0\n",
    "\n",
    "# Print the output of your function for n=1 and again for n=40754.\n",
    "print(nextTPH(1))\n",
    "print(nextTPH(40754))\n",
    "\n",
    "# Print the output of your function for n=40755.\n",
    "print(nextTPH(40755))\n",
    "\n",
    "\n",
    "\n",
    "\n",
    "\n",
    "\n",
    "def triangle(n):\n",
    "    return n*(n+1)/2\n",
    "\n",
    "def pentagonal(n):\n",
    "    #returns the nth pentagonal number\n",
    "    return n*(3*n -1)/2\n",
    "\n",
    "def hexagonal(n):\n",
    "    return n*(2*n-1)\n",
    "\n",
    "k = 99999\n",
    "#create a list of the first k hex/pent numbers\n",
    "\n",
    "list_hex = [hexagonal(j) for j in range(k)]\n",
    "list_pent = [pentagonal(j) for j in range(k)]\n",
    "\n",
    "def intersection(a, b):\n",
    "    return list(set(a) & set(b))\n",
    "\n",
    "print intersection(list_pent, list_hex)"
   ]
  },
  {
   "cell_type": "markdown",
   "metadata": {},
   "source": [
    "**References:**\n",
    "- [1: argmin](https://docs.scipy.org/doc/numpy-1.13.0/reference/generated/numpy.argmin.html)\n",
    "- [2: Wikipedia: quadratic formula](https://en.wikipedia.org/wiki/Quadratic_formula)"
   ]
  },
  {
   "cell_type": "markdown",
   "metadata": {},
   "source": [
    "*Expected Output*:\n",
    "\n",
    "40755<br>\n",
    "40755<br>\n",
    "1533776805"
   ]
  },
  {
   "cell_type": "markdown",
   "metadata": {},
   "source": [
    "### Assignment Questions:\n",
    "**Answer the following questions, in a couple sentences each, in the cells provided below**\n",
    "* List the key tasks you accomplished during this assignment?\n",
    "* Describe the challenges you faced in addressing these tasks and how you overcame these challenges?\n",
    "* Did you work with other students on this assignment? If yes, how did you help them? How did they help you? Be as specific as possible."
   ]
  },
  {
   "cell_type": "markdown",
   "metadata": {},
   "source": [
    "*Your answers here*"
   ]
  }
 ],
 "metadata": {
  "kernelspec": {
   "display_name": "Python 3",
   "language": "python",
   "name": "python3"
  },
  "language_info": {
   "codemirror_mode": {
    "name": "ipython",
    "version": 3
   },
   "file_extension": ".py",
   "mimetype": "text/x-python",
   "name": "python",
   "nbconvert_exporter": "python",
   "pygments_lexer": "ipython3",
   "version": "3.6.5"
  }
 },
 "nbformat": 4,
 "nbformat_minor": 2
}
