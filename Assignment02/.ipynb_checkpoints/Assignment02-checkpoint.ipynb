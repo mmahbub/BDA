{
 "cells": [
  {
   "cell_type": "markdown",
   "metadata": {},
   "source": [
    "# CS 594 / CS 690 - Assignment 02\n",
    "### September 10, 2018\n",
    "---\n",
    "\n",
    "For this assignment, you must work in groups of one or two students. Each person is responsible to write their own code, but the group will (together) discuss their solution.  In this notebook, we provide you with basic functions for completing the assignment.  *Complete the assignment in this notebook.  You will need to modify existing code and write new code to find a solution*.  Each member of the group must upload their own work (i.e., a notebook file) to GitHub.\n",
    "\n",
    "*Note: Running a cell will not rerun previous cells.  If you edit code in previous cells, you must rerun those cells.  We recommend using* `Run All` *to avoid any errors results from not rerunning previous cells.  You can find this in the menu above:* `Cell -> Run All`"
   ]
  },
  {
   "cell_type": "markdown",
   "metadata": {},
   "source": [
    "---\n",
    "## Problem 1:\n",
    "(Adapted from [ProjectEuler Problem 1](https://projecteuler.net/problem=1).)\n",
    "If we list the natural numbers below 10 that are multiples of 3 or 5, we get: 3, 5, 6, and 9. The sum of these multiples is 23. Write a function that finds the sum of the multiples of $p$ or $q$ below $n$. Use your function to find the sum of all multiples of 3 or 5 below 10000. \n",
    "\n",
    "Note: There are two general approaches to this problem, the naïve (slower) approach and a more mathematical (faster) approach involving the [inclusion-exclusion principle](https://en.wikipedia.org/wiki/Inclusion%E2%80%93exclusion_principle)."
   ]
  },
  {
   "cell_type": "code",
   "execution_count": 3,
   "metadata": {},
   "outputs": [
    {
     "name": "stdout",
     "output_type": "stream",
     "text": [
      "23\n",
      "23331668\n"
     ]
    }
   ],
   "source": [
    "def sumOfMultiples(p, q, n):\n",
    "    sum_ = sum([i for i in range(n) if i % 3 == 0 or i % 5 == 0])\n",
    "    return sum_\n",
    "\n",
    "print(sumOfMultiples(3, 5, 10))\n",
    "\n",
    "print(sumOfMultiples(3, 5, 10000))"
   ]
  },
  {
   "cell_type": "markdown",
   "metadata": {},
   "source": [
    "**Expected Output:**\n",
    "\n",
    "23<br>\n",
    "23331668"
   ]
  },
  {
   "cell_type": "markdown",
   "metadata": {},
   "source": [
    "---\n",
    "## Problem 2:\n",
    "(Adapted from [ProjectEuler Problem 22](https://projecteuler.net/problem=22).)\n",
    "The file p022_names.txt contains one line with over 5000 comma-separated names, each in all-capital letters and enclosed in quotes. Import the names and sort them into alphabetical order. Then working out the alphabetical value for each name, multiply this value by its alphabetical position in the list to obtain a name score.\n",
    "\n",
    "For example, when the list is sorted into alphabetical order, COLIN, which is worth 3 + 15 + 12 + 9 + 14 = 53, is the 938th name in the list. So, COLIN would obtain a score of 938 \\* 53 = 49714.\n",
    "\n",
    "What is the total of the scores for all the names in the file?"
   ]
  },
  {
   "cell_type": "code",
   "execution_count": 2,
   "metadata": {},
   "outputs": [
    {
     "name": "stdout",
     "output_type": "stream",
     "text": [
      "871683246\n"
     ]
    }
   ],
   "source": [
    "import csv\n",
    "\n",
    "name_reader = sorted(list(csv.reader(open('p022_names.txt'), delimiter=','))[0])\n",
    "\n",
    "name_reader.sort()\n",
    "\n",
    "x = len (name_reader)\n",
    "\n",
    "sUm = 0\n",
    "for i in range(0,x):\n",
    "    c = 0\n",
    "    for y in name_reader[i]:\n",
    "        for z in y:\n",
    "            c += (ord(z) - 64)\n",
    "    sUm += c * (i+1)\n",
    "print (sUm)\n"
   ]
  },
  {
   "cell_type": "markdown",
   "metadata": {},
   "source": [
    "**References:**\n",
    "- [1: csv.reader](https://docs.python.org/3.6/library/csv.html#csv.reader)\n",
    "- [2: sort](https://docs.python.org/3.6/library/stdtypes.html#list.sort)<br>\n",
    "Note: we can use the function list.sort() without any added arguments, but the sort function has additional capabilities worth exploring. See [HowTo/Sorting](https://wiki.python.org/moin/HowTo/Sorting) for more details.\n",
    "- [3: ord](https://docs.python.org/3.6/library/functions.html#ord)\n",
    "- [4: enumerate](https://docs.python.org/3/library/functions.html#enumerate)"
   ]
  },
  {
   "cell_type": "markdown",
   "metadata": {},
   "source": [
    "**Expected Output:**\n",
    "\n",
    "871683246"
   ]
  },
  {
   "cell_type": "markdown",
   "metadata": {},
   "source": [
    "---\n",
    "### Problem-solving advice\n",
    "\n",
    "When solving a programming problem such as Problem 3 below, it is generally a bad idea to try and optimize your program in your first attempt. Rather than implementing clever algorithms right away, it is better to write a simple script that you are certain will work and is easier to debug. Once your script runs correctly (possibly with smaller input than the final problem you wish to solve), commit your working solution to your GitHub repository, then you can think about how to improve it."
   ]
  },
  {
   "cell_type": "markdown",
   "metadata": {},
   "source": [
    "---\n",
    "## Problem 3:\n",
    "(From [ProjectEuler Problem 45](https://projecteuler.net/problem=45).)\n",
    "Triangular, Pentagonal, and Hexagonal numbers are generated by the following formulae:\n",
    "\n",
    "| Polygonal  | *formula for nth term*    |*sequence of terms*    |\n",
    "| ---------- | ------------------------- | ----------------------|\n",
    "| Triangular | $T_n = \\frac{n(n+1)}{2}$  | 1, 3, 6, 10, 15, ...  |\n",
    "| Pentagonal | $P_n = \\frac{n(3n-1)}{2}$ | 1, 5, 12, 22, 35, ... |\n",
    "| Hexagonal  | $H_n = n(2n-1)$            | 1, 6, 15, 28, 45, ... |\n",
    "   \n",
    "The number 1 is triangular, pentagonal, and hexagonal (TPH).  Less obviously, $40755=T_{285}=P_{165}=H_{143}$ is also TPH. In fact, 40755 is the smallest TPH number bigger than 1. \n",
    "\n",
    "Write a function to find the smallest TPH number bigger than $n$. Use your function to find the smallest TPH bigger than 40755.\n",
    "\n",
    "Note: You can simplify this problem using a relationship between two of the three given sequences."
   ]
  },
  {
   "cell_type": "code",
   "execution_count": 1,
   "metadata": {
    "scrolled": false
   },
   "outputs": [
    {
     "name": "stdout",
     "output_type": "stream",
     "text": [
      "40755\n",
      "40755\n",
      "1533776805\n"
     ]
    }
   ],
   "source": [
    "import math\n",
    "def solve_quad(a, b, c):\n",
    "    d = (b**2) - (4*a*c)\n",
    "    x = (-b+(d**0.5))/(2*a)\n",
    "    return x\n",
    "\n",
    "def get_hexagonal(n):\n",
    "    return n*(2*n-1)\n",
    "\n",
    "def TPH(p):\n",
    "    flag = 0\n",
    "    hexa = int(solve_quad(2,-1,-p)+1) \n",
    "    p += 1\n",
    "    while True:\n",
    "        penta = int(solve_quad(3,-1,-2*p)+1)\n",
    "        if (1+(24*(p)+1)**0.5) % 6 == 0:\n",
    "            for j in range(hexa,int(penta)):\n",
    "                h = get_hexagonal(int(j))              \n",
    "                if h == p:\n",
    "                    flag = 1 \n",
    "                    break\n",
    "            if flag == 1: \n",
    "                break\n",
    "                    \n",
    "        p += 1\n",
    "        \n",
    "    return h\n",
    "    \n",
    "print(TPH (1))\n",
    "print(TPH (40754))\n",
    "print(TPH (40755))"
   ]
  },
  {
   "cell_type": "markdown",
   "metadata": {},
   "source": [
    "**References:**\n",
    "- [1: argmin](https://docs.scipy.org/doc/numpy-1.13.0/reference/generated/numpy.argmin.html)\n",
    "- [2: Wikipedia: quadratic formula](https://en.wikipedia.org/wiki/Quadratic_formula)"
   ]
  },
  {
   "cell_type": "markdown",
   "metadata": {},
   "source": [
    "*Expected Output*:\n",
    "\n",
    "40755<br>\n",
    "40755<br>\n",
    "1533776805"
   ]
  },
  {
   "cell_type": "markdown",
   "metadata": {},
   "source": [
    "### Assignment Questions:\n",
    "**Answer the following questions, in a couple sentences each, in the cells provided below**\n",
    "* List the key tasks you accomplished during this assignment?\n",
    "* Describe the challenges you faced in addressing these tasks and how you overcame these challenges?\n",
    "* Did you work with other students on this assignment? If yes, how did you help them? How did they help you? Be as specific as possible."
   ]
  },
  {
   "cell_type": "markdown",
   "metadata": {},
   "source": [
    "* Key tasks:\n",
    "    \n",
    "    1. Define a function to find out the required sum in problem 1\n",
    "    \n",
    "    2. In problem 2: \n",
    "       * read the text file using `csv.reader` and create a list of names\n",
    "       * sort the list in alphabetical order\n",
    "       * find the length of the list \n",
    "       * calculate the value for each letter\n",
    "       * find the score of each name by adding the alphabetical values\n",
    "       * find the total score in the file by adding the individual scores\n",
    "    \n",
    "    3. In problem 3:\n",
    "       * define a function to find the next TPH number\n",
    "       * use `while true` loop to iterate over the numbers until the next TPH is found\n",
    "       * use the function `solve_quad` to find the different value of n at which TPH occurs\n",
    "       \n",
    "       \n",
    "* Challenges: \n",
    "\n",
    "     * The first two tasks took no time to accomplish but the third problem was a bit of a challenge \n",
    "       as it tends to get caught up in the infinite loop and which is why takes more time to compile. \n",
    "       However, I tried my best to debug this problem within the time frame of this assignment.\n",
    "       \n",
    "       \n",
    "* No I didn't get the chance to work with other students during this assignment. \n",
    "       \n",
    "       \n",
    "    \n"
   ]
  },
  {
   "cell_type": "code",
   "execution_count": null,
   "metadata": {},
   "outputs": [],
   "source": []
  }
 ],
 "metadata": {
  "kernelspec": {
   "display_name": "Python 3",
   "language": "python",
   "name": "python3"
  },
  "language_info": {
   "codemirror_mode": {
    "name": "ipython",
    "version": 3
   },
   "file_extension": ".py",
   "mimetype": "text/x-python",
   "name": "python",
   "nbconvert_exporter": "python",
   "pygments_lexer": "ipython3",
   "version": "3.6.5"
  }
 },
 "nbformat": 4,
 "nbformat_minor": 2
}
