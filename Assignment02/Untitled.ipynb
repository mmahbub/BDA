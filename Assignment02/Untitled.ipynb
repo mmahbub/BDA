{
 "cells": [
  {
   "cell_type": "code",
   "execution_count": 1,
   "metadata": {},
   "outputs": [
    {
     "name": "stdout",
     "output_type": "stream",
     "text": [
      "1533776805\n"
     ]
    }
   ],
   "source": [
    "def compute():\n",
    "\ti = 286\n",
    "\tj = 166\n",
    "\tk = 144\n",
    "\twhile True:\n",
    "\t\ttriangle = i * (i + 1) // 2\n",
    "\t\tpentagon = j * (j * 3 - 1) // 2\n",
    "\t\thexagon  = k * (k * 2 - 1)\n",
    "\t\tminimum = min(triangle, pentagon, hexagon)\n",
    "\t\tif minimum == max(triangle, pentagon, hexagon):\n",
    "\t\t\treturn str(triangle)\n",
    "\t\tif minimum == triangle: i += 1\n",
    "\t\tif minimum == pentagon: j += 1\n",
    "\t\tif minimum == hexagon : k += 1\n",
    "\n",
    "\n",
    "if __name__ == \"__main__\":\n",
    "\tprint(compute())\n"
   ]
  },
  {
   "cell_type": "code",
   "execution_count": 45,
   "metadata": {},
   "outputs": [
    {
     "name": "stdout",
     "output_type": "stream",
     "text": [
      "1\n"
     ]
    }
   ],
   "source": [
    "def a(n):\n",
    "    def Hexagonal(m,x):\n",
    "        for i in range(m,x+1): yield i*(2*i-1)\n",
    "            \n",
    "    def isTriangle(n): \n",
    "        return not (-1+(1+8*i)**.5)/2%1\n",
    "    \n",
    "    def isPentagonal(n): \n",
    "        return not (1+(1+24*i)**.5)/6%1\n",
    "    \n",
    "    for i in Hexagonal(1,40755):\n",
    "        if isTriangle(i) and isPentagonal(i): \n",
    "            return i\n",
    "        \n",
    "print (a(100))\n",
    "        \n"
   ]
  },
  {
   "cell_type": "code",
   "execution_count": 32,
   "metadata": {},
   "outputs": [
    {
     "name": "stdout",
     "output_type": "stream",
     "text": [
      "None\n"
     ]
    }
   ],
   "source": [
    "def getP(n):\n",
    "    return int ((1+(1+24*n)**0.5)/6) \n",
    "\n",
    "def getH(n):\n",
    "    return  n * (n * 2 - 1)\n",
    "\n",
    "def tph(n):\n",
    "    x = (getH(getP(n)))\n",
    "    \n",
    "print (tph(40754))"
   ]
  },
  {
   "cell_type": "code",
   "execution_count": 36,
   "metadata": {},
   "outputs": [
    {
     "ename": "NameError",
     "evalue": "name 'n' is not defined",
     "output_type": "error",
     "traceback": [
      "\u001b[0;31m---------------------------------------------------------------------------\u001b[0m",
      "\u001b[0;31mNameError\u001b[0m                                 Traceback (most recent call last)",
      "\u001b[0;32m<ipython-input-36-702740619d5f>\u001b[0m in \u001b[0;36m<module>\u001b[0;34m()\u001b[0m\n\u001b[1;32m     16\u001b[0m             \u001b[0mprint\u001b[0m \u001b[0;34m(\u001b[0m\u001b[0mp\u001b[0m\u001b[0;34m)\u001b[0m\u001b[0;34m\u001b[0m\u001b[0m\n\u001b[1;32m     17\u001b[0m         \u001b[0mh\u001b[0m\u001b[0;34m=\u001b[0m \u001b[0mnext\u001b[0m\u001b[0;34m(\u001b[0m\u001b[0mhexagonal\u001b[0m\u001b[0;34m)\u001b[0m\u001b[0;34m\u001b[0m\u001b[0m\n\u001b[0;32m---> 18\u001b[0;31m \u001b[0mmain\u001b[0m \u001b[0;34m(\u001b[0m\u001b[0;34m)\u001b[0m\u001b[0;34m\u001b[0m\u001b[0m\n\u001b[0m",
      "\u001b[0;32m<ipython-input-36-702740619d5f>\u001b[0m in \u001b[0;36mmain\u001b[0;34m()\u001b[0m\n\u001b[1;32m      6\u001b[0m \u001b[0;34m\u001b[0m\u001b[0m\n\u001b[1;32m      7\u001b[0m \u001b[0;32mdef\u001b[0m \u001b[0mmain\u001b[0m\u001b[0;34m(\u001b[0m\u001b[0;34m)\u001b[0m\u001b[0;34m:\u001b[0m\u001b[0;34m\u001b[0m\u001b[0m\n\u001b[0;32m----> 8\u001b[0;31m     \u001b[0mhexagonal\u001b[0m\u001b[0;34m=\u001b[0m \u001b[0mhexagonals\u001b[0m\u001b[0;34m(\u001b[0m\u001b[0;34m)\u001b[0m\u001b[0;34m\u001b[0m\u001b[0m\n\u001b[0m\u001b[1;32m      9\u001b[0m     \u001b[0mpentagonal\u001b[0m\u001b[0;34m=\u001b[0m \u001b[0mpentagonals\u001b[0m\u001b[0;34m(\u001b[0m\u001b[0;34m)\u001b[0m\u001b[0;34m\u001b[0m\u001b[0m\n\u001b[1;32m     10\u001b[0m     \u001b[0mh\u001b[0m\u001b[0;34m=\u001b[0m \u001b[0mnext\u001b[0m\u001b[0;34m(\u001b[0m\u001b[0mhexagonal\u001b[0m\u001b[0;34m)\u001b[0m\u001b[0;34m\u001b[0m\u001b[0m\n",
      "\u001b[0;32m<ipython-input-36-702740619d5f>\u001b[0m in \u001b[0;36mhexagonals\u001b[0;34m()\u001b[0m\n\u001b[1;32m      3\u001b[0m \u001b[0;34m\u001b[0m\u001b[0m\n\u001b[1;32m      4\u001b[0m \u001b[0;32mdef\u001b[0m \u001b[0mhexagonals\u001b[0m\u001b[0;34m(\u001b[0m\u001b[0;34m)\u001b[0m\u001b[0;34m:\u001b[0m\u001b[0;34m\u001b[0m\u001b[0m\n\u001b[0;32m----> 5\u001b[0;31m     \u001b[0;32mreturn\u001b[0m \u001b[0;34m(\u001b[0m\u001b[0mn\u001b[0m \u001b[0;34m*\u001b[0m \u001b[0;34m(\u001b[0m\u001b[0mn\u001b[0m \u001b[0;34m*\u001b[0m \u001b[0;36m2\u001b[0m \u001b[0;34m-\u001b[0m \u001b[0;36m1\u001b[0m\u001b[0;34m)\u001b[0m\u001b[0;34m)\u001b[0m\u001b[0;34m\u001b[0m\u001b[0m\n\u001b[0m\u001b[1;32m      6\u001b[0m \u001b[0;34m\u001b[0m\u001b[0m\n\u001b[1;32m      7\u001b[0m \u001b[0;32mdef\u001b[0m \u001b[0mmain\u001b[0m\u001b[0;34m(\u001b[0m\u001b[0;34m)\u001b[0m\u001b[0;34m:\u001b[0m\u001b[0;34m\u001b[0m\u001b[0m\n",
      "\u001b[0;31mNameError\u001b[0m: name 'n' is not defined"
     ]
    }
   ],
   "source": [
    "def pentagonals():\n",
    "    return (n * (n * 3 - 1) / 2)\n",
    "\n",
    "def hexagonals():\n",
    "    return (n * (n * 2 - 1))\n",
    "\n",
    "def main():\n",
    "    hexagonal= hexagonals()\n",
    "    pentagonal= pentagonals()\n",
    "    h= next(hexagonal)\n",
    "    p= next(pentagonal)\n",
    "    while 1:\n",
    "        while p < h:\n",
    "            p= next(pentagonal)\n",
    "        if p == h:\n",
    "            print (p)\n",
    "        h= next(hexagonal)\n",
    "main ()"
   ]
  },
  {
   "cell_type": "code",
   "execution_count": null,
   "metadata": {},
   "outputs": [],
   "source": []
  }
 ],
 "metadata": {
  "kernelspec": {
   "display_name": "Python 3",
   "language": "python",
   "name": "python3"
  },
  "language_info": {
   "codemirror_mode": {
    "name": "ipython",
    "version": 3
   },
   "file_extension": ".py",
   "mimetype": "text/x-python",
   "name": "python",
   "nbconvert_exporter": "python",
   "pygments_lexer": "ipython3",
   "version": "3.6.5"
  }
 },
 "nbformat": 4,
 "nbformat_minor": 2
}
